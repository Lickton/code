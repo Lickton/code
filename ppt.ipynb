{
 "cells": [
  {
   "attachments": {},
   "cell_type": "markdown",
   "metadata": {
    "slideshow": {
     "slide_type": "slide"
    }
   },
   "source": [
    "# 开源人物社会网格构建\n",
    "\n",
    "组员：李焕貌   陈 彬   阮子昌   \n",
    "指导老师：陈卫"
   ]
  },
  {
   "attachments": {},
   "cell_type": "markdown",
   "metadata": {
    "slideshow": {
     "slide_type": "slide"
    }
   },
   "source": [
    "## 1 Background INFO"
   ]
  },
  {
   "attachments": {},
   "cell_type": "markdown",
   "metadata": {
    "slideshow": {
     "slide_type": "subslide"
    }
   },
   "source": [
    "### Six Degrees of Separation\n",
    "\n",
    "Six degrees of separation is the idea that all people are six or fewer social connections away from each other. As a result, a chain of \"friend of a friend\" statements can be made to connect any two people in a maximum of six steps. \n",
    "<img align=\"float:right\" src=\"https://upload.wikimedia.org/wikipedia/commons/thumb/e/e1/Six_degrees_social_network.png/1024px-Six_degrees_social_network.png\"/>"
   ]
  },
  {
   "attachments": {},
   "cell_type": "markdown",
   "metadata": {
    "slideshow": {
     "slide_type": "subslide"
    }
   },
   "source": [
    "### Graph Database\n",
    "\n",
    "A graph database (GDB) is a database that uses graph structures for semantic queries with nodes, edges, and properties to represent and store data.\n",
    "<center>\n",
    "    <img src=\"https://upload.wikimedia.org/wikipedia/commons/3/3a/GraphDatabase_PropertyGraph.png\" height=\"50%\" width=\"50%\"/>\n",
    "<center/>\n",
    "\n",
    "- Nodes represent entities or instances\n",
    "- Edges, aka relationships, are the lines that connect nodes to other nodes\n",
    "- Properties are information associated to nodes"
   ]
  },
  {
   "attachments": {},
   "cell_type": "markdown",
   "metadata": {
    "slideshow": {
     "slide_type": "slide"
    }
   },
   "source": [
    "## 2 On Practice"
   ]
  },
  {
   "attachments": {},
   "cell_type": "markdown",
   "metadata": {
    "slideshow": {
     "slide_type": "subslide"
    }
   },
   "source": [
    "### Data Source\n",
    "\n",
    "- [Wikipedia The Free Ecyclopedia](https://en.wikipedia.org/w/index.php?title=List_of_presidents_of_the_United_States)\n",
    "\n",
    "Data comes from the `infobox` of `Personal Details` on personal page.   \n",
    "However, not all data is displayed on the Wikipedia.\n",
    "For example, [John Adams - 2nd President](https://en.wikipedia.org/wiki/John_Adams)"
   ]
  },
  {
   "attachments": {},
   "cell_type": "markdown",
   "metadata": {
    "slideshow": {
     "slide_type": "slide"
    }
   },
   "source": [
    "### Data Object Modeling\n",
    "\n",
    "Node Modeling\n",
    "- Person Node\n",
    "    - Person Name\n",
    "    - Wikipedia Link\n",
    "    - Is_President\n",
    "- Family Node\n",
    "    - Family Name\n",
    "    - Wikipedia Link\n",
    "\n",
    "```python\n",
    "person_node = []\n",
    "person_node.append({\n",
    "    \"name\": person_name,\n",
    "    \"is_president\": is_president,\n",
    "    \"wikipedia_url\": person_url,\n",
    "})\n",
    "family_node = []\n",
    "family_node.append({\n",
    "    \"name\": family_name.lower(),\n",
    "    \"url\": family_url\n",
    "})\n",
    "```"
   ]
  },
  {
   "attachments": {},
   "cell_type": "markdown",
   "metadata": {
    "slideshow": {
     "slide_type": "subslide"
    }
   },
   "source": [
    "### Data Object Modeling\n",
    "\n",
    "Node Modeling\n",
    "```python\n",
    "family_node.append({\n",
    "    \"name\": family_name.lower(),\n",
    "    \"url\": family_url\n",
    "})\n",
    "```\n",
    "\n",
    "Why using `lower()` to `family_name`?   \n",
    "There may be capitalization issues.\n",
    "- [John F. Kennedy](https://en.wikipedia.org/wiki/John_F._Kennedy)\n",
    "- [Edwin Schlossberg](https://en.wikipedia.org/wiki/Edwin_Schlossberg)"
   ]
  },
  {
   "attachments": {},
   "cell_type": "markdown",
   "metadata": {
    "slideshow": {
     "slide_type": "subslide"
    }
   },
   "source": [
    "### Data Object Modeling\n",
    "\n",
    "Relationship Modeling\n",
    "- Marriage_between\n",
    "- Child_Of\n",
    "- Parent_Of\n",
    "- Member_Of\n",
    "\n",
    "```python\n",
    "XXX_XX.append({\n",
    "    \"source\": XXXXX_name,\n",
    "    \"target\": XXXXX_name\n",
    "})\n",
    "```"
   ]
  },
  {
   "attachments": {},
   "cell_type": "markdown",
   "metadata": {
    "slideshow": {
     "slide_type": "subslide"
    }
   },
   "source": [
    "### Data Object Modeling\n",
    "\n",
    "```python\n",
    "neo4j_data = {\n",
    "    \"PersonNode\": person_node,\n",
    "    \"FamilyNode\": family_node,\n",
    "    \"Marriage\": marriage_between,\n",
    "    \"Parents\": child_of,\n",
    "    \"Children\": parent_of,\n",
    "    \"Family\": member_of,\n",
    "}\n",
    "```\n",
    "\n",
    "```json\n",
    "{\n",
    "    \"PersonNode\": [\n",
    "        {\n",
    "            \"name\": \"George Washington\",\n",
    "            \"is_president\": true,\n",
    "            \"wikipedia_url\": \"https://...\"\n",
    "        }\n",
    "    ],\n",
    "    \"FamilyNode\": [\n",
    "        {\n",
    "            \"name\": \"john custis (councillor)\",\n",
    "            \"url\": \"https://...\"\n",
    "        }\n",
    "    ]\n",
    "}\n",
    "```"
   ]
  },
  {
   "attachments": {},
   "cell_type": "markdown",
   "metadata": {
    "slideshow": {
     "slide_type": "slide"
    }
   },
   "source": [
    "### Programing - Web Crawler\n",
    "\n",
    "All of the data structures were mentioned earlier, except the `node_set`.\n",
    "```python\n",
    "node_set = set()\n",
    "if person_name in node_set:\n",
    "    if is_president:\n",
    "        for item in person_node:\n",
    "            if item[\"name\"] == person_name:\n",
    "                item[\"is_president\"] = True\n",
    "    return\n",
    "```\n",
    "\n",
    "`node_set` is designed to not repeatedly visit someone's personal page.   \n",
    "The parameter defaults to `False` when we call the function."
   ]
  },
  {
   "attachments": {},
   "cell_type": "markdown",
   "metadata": {
    "slideshow": {
     "slide_type": "subslide"
    }
   },
   "source": [
    "### Programing - Web Crawler\n",
    "\n",
    "Core function\n",
    "```python\n",
    "get_person_info(person_url, person_name, is_president=False, depth=0)\n",
    "```\n",
    "\n",
    "- Whenever an accessible link is encountered, this funciton is called\n",
    "- When `depth > MAX_DEPTH`, this function will return without running"
   ]
  },
  {
   "attachments": {},
   "cell_type": "markdown",
   "metadata": {
    "slideshow": {
     "slide_type": "subslide"
    }
   },
   "source": [
    "### Programing - Web Crawler\n",
    "\n",
    "Overall Logic of The Program\n",
    "```python\n",
    "for president_links in presidents_links:\n",
    "    links = president_links.find_all(\"a\")\n",
    "    for link in links:\n",
    "        url = \"https://en.wikipedia.org\" + link.get(\"href\")\n",
    "        name = link.get(\"title\").replace(\"\\u200b\", \"\").replace(\"\\n\", \"\").strip()\n",
    "        get_person_info(url, name, True, 0)\n",
    "\n",
    "with open(\"data.json\", \"w\") as f:\n",
    "    json.dump(neo4j_data, f, indent=4)\n",
    "\n",
    "```\n",
    "The Unicode `\\u200b` is zero-width space, which is used to mark a potential line break."
   ]
  },
  {
   "attachments": {},
   "cell_type": "markdown",
   "metadata": {
    "slideshow": {
     "slide_type": "slide"
    }
   },
   "source": [
    "### Programing - Import Data\n",
    "\n",
    "Neo4j is a graph database management system developed by Neo4j, Inc.\n",
    "<center>\n",
    "    <img align=\"middle\" src=\"https://dist.neo4j.com/wp-content/uploads/20210423072428/neo4j-logo-2020-1.svg\" height=\"50%\" width=\"50%\"/>\n",
    "<center/>\n",
    "\n",
    "Cypher is Neo4j’s graph query language that lets you retrieve data from the graph. It is like SQL, but for graphs.\n",
    "```SQL\n",
    "MATCH (nicole:Actor {name: 'Nicole Kidman'})-[:ACTED_IN]->(movie:Movie)\n",
    "WHERE movie.year < $yearParameter\n",
    "RETURN movie\n",
    "```"
   ]
  },
  {
   "attachments": {},
   "cell_type": "markdown",
   "metadata": {
    "slideshow": {
     "slide_type": "subslide"
    }
   },
   "source": [
    "### Programing - Import Data\n",
    "\n",
    "Node Import\n",
    "```SQL\n",
    "CALL apoc.load.json(\"file:///data.json\") YIELD value AS data\n",
    "CALL apoc.periodic.iterate(\"\n",
    "    UNWIND $data.PersonNode AS person\n",
    "    RETURN person\n",
    "\", \"\n",
    "    MERGE (p:Person { name: person.name })\n",
    "    SET p.is_president = person.is_president, p.wikipedia_url = person.wikipedia_url\n",
    "\", {batchSize: 500, params: {data: data}}) YIELD batches, total RETURN batches, total;\n",
    "```"
   ]
  },
  {
   "attachments": {},
   "cell_type": "markdown",
   "metadata": {
    "slideshow": {
     "slide_type": "subslide"
    }
   },
   "source": [
    "### Programing - Import Data\n",
    "\n",
    "Relationship Import\n",
    "```SQL\n",
    "CALL apoc.load.json(\"file:///data.json\") YIELD value AS data\n",
    "CALL apoc.periodic.iterate(\"\n",
    "    UNWIND $data.Children AS children\n",
    "    RETURN children\n",
    "\", \"\n",
    "    MATCH (source:Person { name: children.source })\n",
    "    MATCH (target:Person { name: children.target })\n",
    "    MERGE (source)-[:parent_of]->(target)\n",
    "\", {batchSize: 500, params: {data: data}}) YIELD batches, total RETURN batches, total;\n",
    "```"
   ]
  },
  {
   "attachments": {},
   "cell_type": "markdown",
   "metadata": {
    "slideshow": {
     "slide_type": "slide"
    }
   },
   "source": [
    "### Programing - Visualization\n",
    "\n",
    "Using Matplotlib and NetworkX to visualize the path between.\n",
    "<figure class=\"hald\">\n",
    "    <img src=\"https://matplotlib.org/_static/logo_light.svg\" height=\"50%\" wighth=\"50%\"/>\n",
    "    <img src=\"https://networkx.org/_static/networkx_logo.svg\"height=\"50%\" wighth=\"50%\"/>\n",
    "<figure/>"
   ]
  },
  {
   "attachments": {},
   "cell_type": "markdown",
   "metadata": {
    "slideshow": {
     "slide_type": "subslide"
    }
   },
   "source": [
    "### Programing - Visualization\n",
    "\n",
    "`shortestPath()` is a shorest path algorithm in neo4j.\n",
    "\n",
    "```SQL\n",
    "MATCH (p1:Person {name: $name1}), (p2:Person {name: $name2}),\n",
    "    path = shortestPath((p1)-[*]-(p2))\n",
    "RETURN path\n",
    "```"
   ]
  },
  {
   "attachments": {},
   "cell_type": "markdown",
   "metadata": {
    "slideshow": {
     "slide_type": "subslide"
    }
   },
   "source": [
    "### Programing - Visualization\n",
    "\n",
    "A Driver object holds the details required to establish connections with a Neo4j database.\n",
    "```python\n",
    "driver = GraphDatabase.driver(uri, auth=(user, password))\n",
    "```\n",
    "A transaction is a unit of work that is either committed in its entirety or rolled back on failure.\n",
    "```python\n",
    "with driver.session() as session:\n",
    "    path = session.execute_read(transaction_function, parma1, ...)\n",
    "```"
   ]
  },
  {
   "attachments": {},
   "cell_type": "markdown",
   "metadata": {
    "slideshow": {
     "slide_type": "subslide"
    }
   },
   "source": [
    "### Programing - Visualization\n",
    "\n",
    "Put the `shortestPath()` into a python function.\n",
    "```python\n",
    "\n",
    "def shortest_path(tx, name1, name2):\n",
    "    result = tx.run(\n",
    "        \"MATCH (p1:Person {name: $name1}), (p2:Person {name: $name2}),\"\n",
    "        \"  path = shortestPath((p1)-[*]-(p2)) \"\n",
    "        \"RETURN path\",\n",
    "        name1=name1,\n",
    "        name2=name2\n",
    "    )\n",
    "    record = result.single()\n",
    "    if record is None or record[\"path\"] is None:\n",
    "        raise ValueError(f\"No path found between {name1} and {name2}\")\n",
    "    return record[\"path\"]\n",
    "```"
   ]
  },
  {
   "attachments": {},
   "cell_type": "markdown",
   "metadata": {
    "slideshow": {
     "slide_type": "subslide"
    }
   },
   "source": [
    "### Programing - Visualization\n",
    "\n",
    "```python\n",
    "G = nx.DiGraph()\n",
    "for i, rel in enumerate(path.relationships):\n",
    "    start_node = rel.start_node\n",
    "    end_node = rel.end_node\n",
    "    G.add_edge(\n",
    "        start_node[\"name\"], end_node[\"name\"],\n",
    "        label=str(i),\n",
    "        type=rel.type\n",
    "    )\n",
    "```\n",
    "Create a NetworkX directed graph `G` and iterates through the relationships in the path.   \n",
    "For each relationship, it adds an edge to the graph between the start and end nodes,along with the index of the relationship and its type as edge attributes."
   ]
  },
  {
   "attachments": {},
   "cell_type": "markdown",
   "metadata": {
    "slideshow": {
     "slide_type": "subslide"
    }
   },
   "source": [
    "### Programing - Visualization\n",
    "\n",
    "Use the NetworkX and matplotlib to visualize the graph `G`.\n",
    "\n",
    "```python\n",
    "pos = nx.circular_layout(G)\n",
    "edge_labels = nx.get_edge_attributes(G, \"label\")\n",
    "edge_types = nx.get_edge_attributes(G, \"type\")\n",
    "nx.draw_networkx_nodes(G, pos)\n",
    "nx.draw_networkx_edges(G, pos)\n",
    "nx.draw_networkx_edge_labels(G, pos, edge_labels=edge_labels)\n",
    "nx.draw_networkx_edge_labels(G, pos, edge_labels=edge_types, font_color=\"red\")\n",
    "nx.draw_networkx_labels(G, pos)\n",
    "plt.axis(\"off\")\n",
    "plt.show()\n",
    "```"
   ]
  },
  {
   "attachments": {},
   "cell_type": "markdown",
   "metadata": {
    "slideshow": {
     "slide_type": "slide"
    }
   },
   "source": [
    "## 3 Summary\n",
    "\n",
    "- Drawback\n",
    "    - Insufficietn Data\n",
    "    - Confusing Entries\n",
    "- Further\n",
    "    - A more powerful database\n",
    "    - ..."
   ]
  }
 ],
 "metadata": {
  "celltoolbar": "幻灯片",
  "kernelspec": {
   "display_name": "Python 3 (ipykernel)",
   "language": "python",
   "name": "python3"
  },
  "language_info": {
   "codemirror_mode": {
    "name": "ipython",
    "version": 3
   },
   "file_extension": ".py",
   "mimetype": "text/x-python",
   "name": "python",
   "nbconvert_exporter": "python",
   "pygments_lexer": "ipython3",
   "version": "3.11.3"
  }
 },
 "nbformat": 4,
 "nbformat_minor": 2
}
